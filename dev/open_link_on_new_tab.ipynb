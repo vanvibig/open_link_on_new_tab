{
 "cells": [
  {
   "cell_type": "code",
   "execution_count": 33,
   "metadata": {},
   "outputs": [],
   "source": [
    "import webbrowser\n",
    "\n",
    "chrome_path = 'C:/Program Files (x86)/Google/Chrome/Application/chrome.exe %s'\n",
    "\n",
    "current_link = \"https://metruyenchu.com/truyen/kiem-tien-o-day/chuong-557\"\n",
    "\n",
    "chapter = int(current_link.split('/')[-1].split('-')[1])\n",
    "\n",
    "next_chapter = \"https://metruyenchu.com/truyen/kiem-tien-o-day/chuong-\"\n",
    "\n",
    "for i in range(1, 20):\n",
    "    next_chapter_link = next_chapter + str((chapter + i))\n",
    "    webbrowser.get(chrome_path).open(next_chapter_link)"
   ]
  },
  {
   "cell_type": "code",
   "execution_count": null,
   "metadata": {},
   "outputs": [],
   "source": []
  }
 ],
 "metadata": {
  "kernelspec": {
   "display_name": "Python 3",
   "language": "python",
   "name": "python3"
  },
  "language_info": {
   "codemirror_mode": {
    "name": "ipython",
    "version": 3
   },
   "file_extension": ".py",
   "mimetype": "text/x-python",
   "name": "python",
   "nbconvert_exporter": "python",
   "pygments_lexer": "ipython3",
   "version": "3.6.11"
  }
 },
 "nbformat": 4,
 "nbformat_minor": 4
}
